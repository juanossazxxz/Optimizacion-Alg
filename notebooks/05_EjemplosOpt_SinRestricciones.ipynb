{
  "nbformat": 4,
  "nbformat_minor": 0,
  "metadata": {
    "colab": {
      "provenance": []
    },
    "kernelspec": {
      "name": "python3",
      "display_name": "Python 3"
    },
    "language_info": {
      "name": "python"
    }
  },
  "cells": [
    {
      "cell_type": "markdown",
      "source": [
        "# Ejemplos de Aplicacion, Gradientes - Optimizacion sin restricciones."
      ],
      "metadata": {
        "id": "LwV0QAFPiaUB"
      }
    },
    {
      "cell_type": "markdown",
      "source": [
        "## Ejemplos de convergencia\n",
        "1. Pueden encontrar algunos ejemplos en: https://gbhat.com/machine_learning/gradient_descent_learning_rates.html.\n",
        "2. Tutorial de UVA Deep Learning. https://uvadlc-notebooks.readthedocs.io/en/latest/tutorial_notebooks/JAX/tutorial4/Optimization_and_Initialization.html\n",
        "3. varios ejemplos - optinpy. https://github.com/gusmaogabriels/optinpy\n",
        "4. Ejemplos con JAX - https://colab.research.google.com/drive/1vrn43VMGrgExDZoOQISbnp01vJCu2IXV?usp=sharing\n",
        "5. A Survey of Optimization Methods from a Machine Learning Perspective - https://arxiv.org/abs/1906.06821\n",
        "6. Problemas de regresion y clasificacion."
      ],
      "metadata": {
        "id": "KZDI0Phaigrv"
      }
    },
    {
      "cell_type": "markdown",
      "source": [
        "# 1. Regresion"
      ],
      "metadata": {
        "id": "RfuduX0No4lb"
      }
    },
    {
      "cell_type": "code",
      "source": [
        "from sklearn import datasets\n",
        "from sklearn.model_selection import train_test_split\n",
        "from jax import numpy as jnp\n",
        "\n",
        "X, Y = datasets.load_boston(return_X_y=True)\n",
        "\n",
        "X_train, X_test, Y_train, Y_test = train_test_split(X, Y, train_size=0.8, random_state=123)\n",
        "\n",
        "X_train, X_test, Y_train, Y_test = jnp.array(X_train, dtype=jnp.float32),\\\n",
        "                                   jnp.array(X_test, dtype=jnp.float32),\\\n",
        "                                   jnp.array(Y_train, dtype=jnp.float32),\\\n",
        "                                   jnp.array(Y_test, dtype=jnp.float32)\n",
        "\n",
        "samples, features = X_train.shape\n",
        "\n",
        "X_train.shape, X_test.shape, Y_train.shape, Y_test.shape"
      ],
      "metadata": {
        "colab": {
          "base_uri": "https://localhost:8080/"
        },
        "id": "XgarWkIMoFa9",
        "outputId": "f286b46b-ba61-4943-a18a-5edbfa63fc16"
      },
      "execution_count": 23,
      "outputs": [
        {
          "output_type": "stream",
          "name": "stderr",
          "text": [
            "/usr/local/lib/python3.8/dist-packages/sklearn/utils/deprecation.py:87: FutureWarning: Function load_boston is deprecated; `load_boston` is deprecated in 1.0 and will be removed in 1.2.\n",
            "\n",
            "    The Boston housing prices dataset has an ethical problem. You can refer to\n",
            "    the documentation of this function for further details.\n",
            "\n",
            "    The scikit-learn maintainers therefore strongly discourage the use of this\n",
            "    dataset unless the purpose of the code is to study and educate about\n",
            "    ethical issues in data science and machine learning.\n",
            "\n",
            "    In this special case, you can fetch the dataset from the original\n",
            "    source::\n",
            "\n",
            "        import pandas as pd\n",
            "        import numpy as np\n",
            "\n",
            "\n",
            "        data_url = \"http://lib.stat.cmu.edu/datasets/boston\"\n",
            "        raw_df = pd.read_csv(data_url, sep=\"\\s+\", skiprows=22, header=None)\n",
            "        data = np.hstack([raw_df.values[::2, :], raw_df.values[1::2, :2]])\n",
            "        target = raw_df.values[1::2, 2]\n",
            "\n",
            "    Alternative datasets include the California housing dataset (i.e.\n",
            "    :func:`~sklearn.datasets.fetch_california_housing`) and the Ames housing\n",
            "    dataset. You can load the datasets as follows::\n",
            "\n",
            "        from sklearn.datasets import fetch_california_housing\n",
            "        housing = fetch_california_housing()\n",
            "\n",
            "    for the California housing dataset and::\n",
            "\n",
            "        from sklearn.datasets import fetch_openml\n",
            "        housing = fetch_openml(name=\"house_prices\", as_frame=True)\n",
            "\n",
            "    for the Ames housing dataset.\n",
            "    \n",
            "  warnings.warn(msg, category=FutureWarning)\n"
          ]
        },
        {
          "output_type": "execute_result",
          "data": {
            "text/plain": [
              "((404, 13), (102, 13), (404,), (102,))"
            ]
          },
          "metadata": {},
          "execution_count": 23
        }
      ]
    },
    {
      "cell_type": "code",
      "source": [
        "samples, features"
      ],
      "metadata": {
        "colab": {
          "base_uri": "https://localhost:8080/"
        },
        "id": "n5A1rc_Bo9PE",
        "outputId": "aaa7a300-14d0-4705-80d6-24f8683167e1"
      },
      "execution_count": 24,
      "outputs": [
        {
          "output_type": "execute_result",
          "data": {
            "text/plain": [
              "(404, 13)"
            ]
          },
          "metadata": {},
          "execution_count": 24
        }
      ]
    },
    {
      "cell_type": "markdown",
      "source": [
        "Normalizar datos, que tengan medio 0 y varianza 1."
      ],
      "metadata": {
        "id": "gQajyX-EpJmZ"
      }
    },
    {
      "cell_type": "code",
      "source": [
        "mean = X_train.mean(axis=0)\n",
        "std = X_train.std(axis=0)\n",
        "\n",
        "X_train = (X_train - mean) / std\n",
        "X_test = (X_test - mean) / std"
      ],
      "metadata": {
        "id": "Nf1HHjKbpGx8"
      },
      "execution_count": 25,
      "outputs": []
    },
    {
      "cell_type": "code",
      "source": [
        "def InitializeWeights(layer_sizes, seed):\n",
        "    weights = []\n",
        "\n",
        "    for i, units in enumerate(layer_sizes):\n",
        "        if i==0:\n",
        "            w = jax.random.uniform(key=seed, shape=(units, features), minval=-1.0, maxval=1.0, dtype=jnp.float32)\n",
        "        else:\n",
        "            w = jax.random.uniform(key=seed, shape=(units, layer_sizes[i-1]), minval=-1.0, maxval=1.0,\n",
        "                                   dtype=jnp.float32)\n",
        "\n",
        "        b = jax.random.uniform(key=seed, minval=-1.0, maxval=1.0, shape=(units,), dtype=jnp.float32)\n",
        "\n",
        "        weights.append([w,b])\n",
        "\n",
        "    return weights"
      ],
      "metadata": {
        "id": "-fk4LsYEpJFU"
      },
      "execution_count": 26,
      "outputs": []
    },
    {
      "cell_type": "code",
      "source": [
        "seed = jax.random.PRNGKey(123)\n",
        "weights = InitializeWeights([5,10,1], seed)\n",
        "\n",
        "for w in weights:\n",
        "    print(w[0].shape, w[1].shape)"
      ],
      "metadata": {
        "colab": {
          "base_uri": "https://localhost:8080/"
        },
        "id": "rbT1sQeBpP00",
        "outputId": "8b5d61da-ad8a-4a50-f621-3506384f634f"
      },
      "execution_count": 27,
      "outputs": [
        {
          "output_type": "stream",
          "name": "stdout",
          "text": [
            "(5, 13) (5,)\n",
            "(10, 5) (10,)\n",
            "(1, 10) (1,)\n"
          ]
        }
      ]
    },
    {
      "cell_type": "code",
      "source": [
        "def Relu(x):\n",
        "    return jnp.maximum(x, jnp.zeros_like(x)) # max(0,x)"
      ],
      "metadata": {
        "id": "AiC9AbaopR2M"
      },
      "execution_count": 28,
      "outputs": []
    },
    {
      "cell_type": "code",
      "source": [
        "x = jnp.array([-1,0,1,-2,4,-6,5])\n",
        "\n",
        "Relu(x)"
      ],
      "metadata": {
        "colab": {
          "base_uri": "https://localhost:8080/"
        },
        "id": "U1ze2hWjpUrk",
        "outputId": "16c106fc-b557-406e-ce90-acb1b71d1100"
      },
      "execution_count": 29,
      "outputs": [
        {
          "output_type": "execute_result",
          "data": {
            "text/plain": [
              "Array([0, 0, 1, 0, 4, 0, 5], dtype=int32)"
            ]
          },
          "metadata": {},
          "execution_count": 29
        }
      ]
    },
    {
      "cell_type": "code",
      "source": [
        "plt.plot(x.sort(),Relu(x.sort()))"
      ],
      "metadata": {
        "colab": {
          "base_uri": "https://localhost:8080/",
          "height": 370
        },
        "id": "e-gQAqjYpWqs",
        "outputId": "0adb89de-d5f2-4f52-fab7-81251ed7b9df"
      },
      "execution_count": 32,
      "outputs": [
        {
          "output_type": "execute_result",
          "data": {
            "text/plain": [
              "[<matplotlib.lines.Line2D at 0x7f2586f89b50>]"
            ]
          },
          "metadata": {},
          "execution_count": 32
        },
        {
          "output_type": "display_data",
          "data": {
            "text/plain": [
              "<Figure size 432x288 with 1 Axes>"
            ],
            "image/svg+xml": "<?xml version=\"1.0\" encoding=\"utf-8\" standalone=\"no\"?>\n<!DOCTYPE svg PUBLIC \"-//W3C//DTD SVG 1.1//EN\"\n  \"http://www.w3.org/Graphics/SVG/1.1/DTD/svg11.dtd\">\n<svg xmlns:xlink=\"http://www.w3.org/1999/xlink\" width=\"362.5625pt\" height=\"248.518125pt\" viewBox=\"0 0 362.5625 248.518125\" xmlns=\"http://www.w3.org/2000/svg\" version=\"1.1\">\n <metadata>\n  <rdf:RDF xmlns:dc=\"http://purl.org/dc/elements/1.1/\" xmlns:cc=\"http://creativecommons.org/ns#\" xmlns:rdf=\"http://www.w3.org/1999/02/22-rdf-syntax-ns#\">\n   <cc:Work>\n    <dc:type rdf:resource=\"http://purl.org/dc/dcmitype/StillImage\"/>\n    <dc:date>2023-02-28T20:10:04.910473</dc:date>\n    <dc:format>image/svg+xml</dc:format>\n    <dc:creator>\n     <cc:Agent>\n      <dc:title>Matplotlib v3.5.3, https://matplotlib.org/</dc:title>\n     </cc:Agent>\n    </dc:creator>\n   </cc:Work>\n  </rdf:RDF>\n </metadata>\n <defs>\n  <style type=\"text/css\">*{stroke-linejoin: round; stroke-linecap: butt}</style>\n </defs>\n <g id=\"figure_1\">\n  <g id=\"patch_1\">\n   <path d=\"M 0 248.518125 \nL 362.5625 248.518125 \nL 362.5625 0 \nL 0 0 \nL 0 248.518125 \nz\n\" style=\"fill: none\"/>\n  </g>\n  <g id=\"axes_1\">\n   <g id=\"patch_2\">\n    <path d=\"M 20.5625 224.64 \nL 355.3625 224.64 \nL 355.3625 7.2 \nL 20.5625 7.2 \nz\n\" style=\"fill: #ffffff\"/>\n   </g>\n   <g id=\"matplotlib.axis_1\">\n    <g id=\"xtick_1\">\n     <g id=\"line2d_1\">\n      <defs>\n       <path id=\"m659ec97bb7\" d=\"M 0 0 \nL 0 3.5 \n\" style=\"stroke: #000000; stroke-width: 0.8\"/>\n      </defs>\n      <g>\n       <use xlink:href=\"#m659ec97bb7\" x=\"35.780682\" y=\"224.64\" style=\"stroke: #000000; stroke-width: 0.8\"/>\n      </g>\n     </g>\n     <g id=\"text_1\">\n      <!-- −6 -->\n      <g transform=\"translate(28.409588 239.238438)scale(0.1 -0.1)\">\n       <defs>\n        <path id=\"DejaVuSans-2212\" d=\"M 678 2272 \nL 4684 2272 \nL 4684 1741 \nL 678 1741 \nL 678 2272 \nz\n\" transform=\"scale(0.015625)\"/>\n        <path id=\"DejaVuSans-36\" d=\"M 2113 2584 \nQ 1688 2584 1439 2293 \nQ 1191 2003 1191 1497 \nQ 1191 994 1439 701 \nQ 1688 409 2113 409 \nQ 2538 409 2786 701 \nQ 3034 994 3034 1497 \nQ 3034 2003 2786 2293 \nQ 2538 2584 2113 2584 \nz\nM 3366 4563 \nL 3366 3988 \nQ 3128 4100 2886 4159 \nQ 2644 4219 2406 4219 \nQ 1781 4219 1451 3797 \nQ 1122 3375 1075 2522 \nQ 1259 2794 1537 2939 \nQ 1816 3084 2150 3084 \nQ 2853 3084 3261 2657 \nQ 3669 2231 3669 1497 \nQ 3669 778 3244 343 \nQ 2819 -91 2113 -91 \nQ 1303 -91 875 529 \nQ 447 1150 447 2328 \nQ 447 3434 972 4092 \nQ 1497 4750 2381 4750 \nQ 2619 4750 2861 4703 \nQ 3103 4656 3366 4563 \nz\n\" transform=\"scale(0.015625)\"/>\n       </defs>\n       <use xlink:href=\"#DejaVuSans-2212\"/>\n       <use xlink:href=\"#DejaVuSans-36\" x=\"83.789062\"/>\n      </g>\n     </g>\n    </g>\n    <g id=\"xtick_2\">\n     <g id=\"line2d_2\">\n      <g>\n       <use xlink:href=\"#m659ec97bb7\" x=\"91.119525\" y=\"224.64\" style=\"stroke: #000000; stroke-width: 0.8\"/>\n      </g>\n     </g>\n     <g id=\"text_2\">\n      <!-- −4 -->\n      <g transform=\"translate(83.748431 239.238438)scale(0.1 -0.1)\">\n       <defs>\n        <path id=\"DejaVuSans-34\" d=\"M 2419 4116 \nL 825 1625 \nL 2419 1625 \nL 2419 4116 \nz\nM 2253 4666 \nL 3047 4666 \nL 3047 1625 \nL 3713 1625 \nL 3713 1100 \nL 3047 1100 \nL 3047 0 \nL 2419 0 \nL 2419 1100 \nL 313 1100 \nL 313 1709 \nL 2253 4666 \nz\n\" transform=\"scale(0.015625)\"/>\n       </defs>\n       <use xlink:href=\"#DejaVuSans-2212\"/>\n       <use xlink:href=\"#DejaVuSans-34\" x=\"83.789062\"/>\n      </g>\n     </g>\n    </g>\n    <g id=\"xtick_3\">\n     <g id=\"line2d_3\">\n      <g>\n       <use xlink:href=\"#m659ec97bb7\" x=\"146.458368\" y=\"224.64\" style=\"stroke: #000000; stroke-width: 0.8\"/>\n      </g>\n     </g>\n     <g id=\"text_3\">\n      <!-- −2 -->\n      <g transform=\"translate(139.087274 239.238438)scale(0.1 -0.1)\">\n       <defs>\n        <path id=\"DejaVuSans-32\" d=\"M 1228 531 \nL 3431 531 \nL 3431 0 \nL 469 0 \nL 469 531 \nQ 828 903 1448 1529 \nQ 2069 2156 2228 2338 \nQ 2531 2678 2651 2914 \nQ 2772 3150 2772 3378 \nQ 2772 3750 2511 3984 \nQ 2250 4219 1831 4219 \nQ 1534 4219 1204 4116 \nQ 875 4013 500 3803 \nL 500 4441 \nQ 881 4594 1212 4672 \nQ 1544 4750 1819 4750 \nQ 2544 4750 2975 4387 \nQ 3406 4025 3406 3419 \nQ 3406 3131 3298 2873 \nQ 3191 2616 2906 2266 \nQ 2828 2175 2409 1742 \nQ 1991 1309 1228 531 \nz\n\" transform=\"scale(0.015625)\"/>\n       </defs>\n       <use xlink:href=\"#DejaVuSans-2212\"/>\n       <use xlink:href=\"#DejaVuSans-32\" x=\"83.789062\"/>\n      </g>\n     </g>\n    </g>\n    <g id=\"xtick_4\">\n     <g id=\"line2d_4\">\n      <g>\n       <use xlink:href=\"#m659ec97bb7\" x=\"201.797211\" y=\"224.64\" style=\"stroke: #000000; stroke-width: 0.8\"/>\n      </g>\n     </g>\n     <g id=\"text_4\">\n      <!-- 0 -->\n      <g transform=\"translate(198.615961 239.238438)scale(0.1 -0.1)\">\n       <defs>\n        <path id=\"DejaVuSans-30\" d=\"M 2034 4250 \nQ 1547 4250 1301 3770 \nQ 1056 3291 1056 2328 \nQ 1056 1369 1301 889 \nQ 1547 409 2034 409 \nQ 2525 409 2770 889 \nQ 3016 1369 3016 2328 \nQ 3016 3291 2770 3770 \nQ 2525 4250 2034 4250 \nz\nM 2034 4750 \nQ 2819 4750 3233 4129 \nQ 3647 3509 3647 2328 \nQ 3647 1150 3233 529 \nQ 2819 -91 2034 -91 \nQ 1250 -91 836 529 \nQ 422 1150 422 2328 \nQ 422 3509 836 4129 \nQ 1250 4750 2034 4750 \nz\n\" transform=\"scale(0.015625)\"/>\n       </defs>\n       <use xlink:href=\"#DejaVuSans-30\"/>\n      </g>\n     </g>\n    </g>\n    <g id=\"xtick_5\">\n     <g id=\"line2d_5\">\n      <g>\n       <use xlink:href=\"#m659ec97bb7\" x=\"257.136054\" y=\"224.64\" style=\"stroke: #000000; stroke-width: 0.8\"/>\n      </g>\n     </g>\n     <g id=\"text_5\">\n      <!-- 2 -->\n      <g transform=\"translate(253.954804 239.238438)scale(0.1 -0.1)\">\n       <use xlink:href=\"#DejaVuSans-32\"/>\n      </g>\n     </g>\n    </g>\n    <g id=\"xtick_6\">\n     <g id=\"line2d_6\">\n      <g>\n       <use xlink:href=\"#m659ec97bb7\" x=\"312.474897\" y=\"224.64\" style=\"stroke: #000000; stroke-width: 0.8\"/>\n      </g>\n     </g>\n     <g id=\"text_6\">\n      <!-- 4 -->\n      <g transform=\"translate(309.293647 239.238438)scale(0.1 -0.1)\">\n       <use xlink:href=\"#DejaVuSans-34\"/>\n      </g>\n     </g>\n    </g>\n   </g>\n   <g id=\"matplotlib.axis_2\">\n    <g id=\"ytick_1\">\n     <g id=\"line2d_7\">\n      <defs>\n       <path id=\"mfce2850a5e\" d=\"M 0 0 \nL -3.5 0 \n\" style=\"stroke: #000000; stroke-width: 0.8\"/>\n      </defs>\n      <g>\n       <use xlink:href=\"#mfce2850a5e\" x=\"20.5625\" y=\"214.756364\" style=\"stroke: #000000; stroke-width: 0.8\"/>\n      </g>\n     </g>\n     <g id=\"text_7\">\n      <!-- 0 -->\n      <g transform=\"translate(7.2 218.555582)scale(0.1 -0.1)\">\n       <use xlink:href=\"#DejaVuSans-30\"/>\n      </g>\n     </g>\n    </g>\n    <g id=\"ytick_2\">\n     <g id=\"line2d_8\">\n      <g>\n       <use xlink:href=\"#mfce2850a5e\" x=\"20.5625\" y=\"175.221818\" style=\"stroke: #000000; stroke-width: 0.8\"/>\n      </g>\n     </g>\n     <g id=\"text_8\">\n      <!-- 1 -->\n      <g transform=\"translate(7.2 179.021037)scale(0.1 -0.1)\">\n       <defs>\n        <path id=\"DejaVuSans-31\" d=\"M 794 531 \nL 1825 531 \nL 1825 4091 \nL 703 3866 \nL 703 4441 \nL 1819 4666 \nL 2450 4666 \nL 2450 531 \nL 3481 531 \nL 3481 0 \nL 794 0 \nL 794 531 \nz\n\" transform=\"scale(0.015625)\"/>\n       </defs>\n       <use xlink:href=\"#DejaVuSans-31\"/>\n      </g>\n     </g>\n    </g>\n    <g id=\"ytick_3\">\n     <g id=\"line2d_9\">\n      <g>\n       <use xlink:href=\"#mfce2850a5e\" x=\"20.5625\" y=\"135.687273\" style=\"stroke: #000000; stroke-width: 0.8\"/>\n      </g>\n     </g>\n     <g id=\"text_9\">\n      <!-- 2 -->\n      <g transform=\"translate(7.2 139.486491)scale(0.1 -0.1)\">\n       <use xlink:href=\"#DejaVuSans-32\"/>\n      </g>\n     </g>\n    </g>\n    <g id=\"ytick_4\">\n     <g id=\"line2d_10\">\n      <g>\n       <use xlink:href=\"#mfce2850a5e\" x=\"20.5625\" y=\"96.152727\" style=\"stroke: #000000; stroke-width: 0.8\"/>\n      </g>\n     </g>\n     <g id=\"text_10\">\n      <!-- 3 -->\n      <g transform=\"translate(7.2 99.951946)scale(0.1 -0.1)\">\n       <defs>\n        <path id=\"DejaVuSans-33\" d=\"M 2597 2516 \nQ 3050 2419 3304 2112 \nQ 3559 1806 3559 1356 \nQ 3559 666 3084 287 \nQ 2609 -91 1734 -91 \nQ 1441 -91 1130 -33 \nQ 819 25 488 141 \nL 488 750 \nQ 750 597 1062 519 \nQ 1375 441 1716 441 \nQ 2309 441 2620 675 \nQ 2931 909 2931 1356 \nQ 2931 1769 2642 2001 \nQ 2353 2234 1838 2234 \nL 1294 2234 \nL 1294 2753 \nL 1863 2753 \nQ 2328 2753 2575 2939 \nQ 2822 3125 2822 3475 \nQ 2822 3834 2567 4026 \nQ 2313 4219 1838 4219 \nQ 1578 4219 1281 4162 \nQ 984 4106 628 3988 \nL 628 4550 \nQ 988 4650 1302 4700 \nQ 1616 4750 1894 4750 \nQ 2613 4750 3031 4423 \nQ 3450 4097 3450 3541 \nQ 3450 3153 3228 2886 \nQ 3006 2619 2597 2516 \nz\n\" transform=\"scale(0.015625)\"/>\n       </defs>\n       <use xlink:href=\"#DejaVuSans-33\"/>\n      </g>\n     </g>\n    </g>\n    <g id=\"ytick_5\">\n     <g id=\"line2d_11\">\n      <g>\n       <use xlink:href=\"#mfce2850a5e\" x=\"20.5625\" y=\"56.618182\" style=\"stroke: #000000; stroke-width: 0.8\"/>\n      </g>\n     </g>\n     <g id=\"text_11\">\n      <!-- 4 -->\n      <g transform=\"translate(7.2 60.417401)scale(0.1 -0.1)\">\n       <use xlink:href=\"#DejaVuSans-34\"/>\n      </g>\n     </g>\n    </g>\n    <g id=\"ytick_6\">\n     <g id=\"line2d_12\">\n      <g>\n       <use xlink:href=\"#mfce2850a5e\" x=\"20.5625\" y=\"17.083636\" style=\"stroke: #000000; stroke-width: 0.8\"/>\n      </g>\n     </g>\n     <g id=\"text_12\">\n      <!-- 5 -->\n      <g transform=\"translate(7.2 20.882855)scale(0.1 -0.1)\">\n       <defs>\n        <path id=\"DejaVuSans-35\" d=\"M 691 4666 \nL 3169 4666 \nL 3169 4134 \nL 1269 4134 \nL 1269 2991 \nQ 1406 3038 1543 3061 \nQ 1681 3084 1819 3084 \nQ 2600 3084 3056 2656 \nQ 3513 2228 3513 1497 \nQ 3513 744 3044 326 \nQ 2575 -91 1722 -91 \nQ 1428 -91 1123 -41 \nQ 819 9 494 109 \nL 494 744 \nQ 775 591 1075 516 \nQ 1375 441 1709 441 \nQ 2250 441 2565 725 \nQ 2881 1009 2881 1497 \nQ 2881 1984 2565 2268 \nQ 2250 2553 1709 2553 \nQ 1456 2553 1204 2497 \nQ 953 2441 691 2322 \nL 691 4666 \nz\n\" transform=\"scale(0.015625)\"/>\n       </defs>\n       <use xlink:href=\"#DejaVuSans-35\"/>\n      </g>\n     </g>\n    </g>\n   </g>\n   <g id=\"line2d_13\">\n    <path d=\"M 35.780682 214.756364 \nL 146.458368 214.756364 \nL 174.127789 214.756364 \nL 201.797211 214.756364 \nL 229.466632 175.221818 \nL 312.474897 56.618182 \nL 340.144318 17.083636 \n\" clip-path=\"url(#p11d46c9915)\" style=\"fill: none; stroke: #1f77b4; stroke-width: 1.5; stroke-linecap: square\"/>\n   </g>\n   <g id=\"patch_3\">\n    <path d=\"M 20.5625 224.64 \nL 20.5625 7.2 \n\" style=\"fill: none; stroke: #000000; stroke-width: 0.8; stroke-linejoin: miter; stroke-linecap: square\"/>\n   </g>\n   <g id=\"patch_4\">\n    <path d=\"M 355.3625 224.64 \nL 355.3625 7.2 \n\" style=\"fill: none; stroke: #000000; stroke-width: 0.8; stroke-linejoin: miter; stroke-linecap: square\"/>\n   </g>\n   <g id=\"patch_5\">\n    <path d=\"M 20.5625 224.64 \nL 355.3625 224.64 \n\" style=\"fill: none; stroke: #000000; stroke-width: 0.8; stroke-linejoin: miter; stroke-linecap: square\"/>\n   </g>\n   <g id=\"patch_6\">\n    <path d=\"M 20.5625 7.2 \nL 355.3625 7.2 \n\" style=\"fill: none; stroke: #000000; stroke-width: 0.8; stroke-linejoin: miter; stroke-linecap: square\"/>\n   </g>\n  </g>\n </g>\n <defs>\n  <clipPath id=\"p11d46c9915\">\n   <rect x=\"20.5625\" y=\"7.2\" width=\"334.8\" height=\"217.44\"/>\n  </clipPath>\n </defs>\n</svg>\n",
            "application/pdf": "[encoded data removed]"
          },
          "metadata": {
            "needs_background": "light"
          }
        }
      ]
    },
    {
      "cell_type": "code",
      "source": [
        "def LinearLayer(weights, input_data, activation=lambda x: x):\n",
        "    w, b = weights\n",
        "    out = jnp.dot(input_data, w.T) + b\n",
        "    return activation(out)"
      ],
      "metadata": {
        "id": "ayU-JTgjpaK8"
      },
      "execution_count": 33,
      "outputs": []
    },
    {
      "cell_type": "code",
      "source": [
        "rand_data = jax.random.uniform(key=seed, shape=(5, X_train.shape[1]))\n",
        "\n",
        "out = LinearLayer(weights[0], rand_data)\n",
        "\n",
        "print(\"Data Shape : {}\".format(rand_data.shape))\n",
        "print(\"Output Shape : {}\".format(out.shape))"
      ],
      "metadata": {
        "colab": {
          "base_uri": "https://localhost:8080/"
        },
        "id": "kyJjeDt4pn1X",
        "outputId": "c5678b70-f491-4e14-f74f-6ad61ec57bff"
      },
      "execution_count": 34,
      "outputs": [
        {
          "output_type": "stream",
          "name": "stdout",
          "text": [
            "Data Shape : (5, 13)\n",
            "Output Shape : (5, 5)\n"
          ]
        }
      ]
    },
    {
      "cell_type": "code",
      "source": [
        "def ForwardPass(weights, input_data):\n",
        "    layer_out = input_data\n",
        "\n",
        "    for i in range(len(weights[:-1])):\n",
        "        layer_out = LinearLayer(weights[i], layer_out, Relu)\n",
        "\n",
        "    preds = LinearLayer(weights[-1], layer_out)\n",
        "\n",
        "    return preds.squeeze()"
      ],
      "metadata": {
        "id": "QBGh8WIopqU8"
      },
      "execution_count": 35,
      "outputs": []
    },
    {
      "cell_type": "markdown",
      "source": [
        "Funcion objetivo: Error medio cuadratico\n",
        "$$ \\min f(\\mathbf{X}_{(N,D)}) = ∑_{n=1}^N (y_n - \\text{NN}(\\mathbf{x}_n))^2  $$"
      ],
      "metadata": {
        "id": "ZU5INQyvpwia"
      }
    },
    {
      "cell_type": "code",
      "source": [
        "def MeanSquaredErrorLoss(weights, input_data, actual):\n",
        "    preds = ForwardPass(weights, input_data)\n",
        "    return jnp.power(actual - preds, 2).mean()"
      ],
      "metadata": {
        "id": "Bt-QuODdps6V"
      },
      "execution_count": 36,
      "outputs": []
    },
    {
      "cell_type": "code",
      "source": [
        "from jax import grad, value_and_grad\n",
        "\n",
        "def CalculateGradients(weights, input_data, actual):\n",
        "    Grad_MSELoss = grad(MeanSquaredErrorLoss)\n",
        "    gradients = Grad_MSELoss(weights, input_data, actual)\n",
        "    return gradients"
      ],
      "metadata": {
        "id": "WqJgf6Afpu5M"
      },
      "execution_count": 37,
      "outputs": []
    },
    {
      "cell_type": "code",
      "source": [
        "def TrainModel(weights, X, Y, learning_rate, epochs):\n",
        "    for i in range(epochs):\n",
        "        loss = MeanSquaredErrorLoss(weights, X, Y)\n",
        "        gradients = CalculateGradients(weights, X, Y)\n",
        "\n",
        "        ## Update Weights\n",
        "        for j in range(len(weights)):\n",
        "            weights[j][0] -= learning_rate * gradients[j][0] ## Update Weights\n",
        "            weights[j][1] -= learning_rate * gradients[j][1] ## Update Biases\n",
        "\n",
        "        if i%100 ==0: ## Print MSE every 100 epochs\n",
        "            print(\"MSE : {:.2f}\".format(loss))"
      ],
      "metadata": {
        "id": "DPuffNY4qY8E"
      },
      "execution_count": 38,
      "outputs": []
    },
    {
      "cell_type": "code",
      "source": [
        "seed = jax.random.PRNGKey(42)\n",
        "learning_rate = jnp.array(1/1e3)\n",
        "epochs = 1500\n",
        "layer_sizes = [5,10,15,1]\n",
        "\n",
        "weights = InitializeWeights(layer_sizes, seed)\n",
        "\n",
        "TrainModel(weights, X_train, Y_train, learning_rate, epochs)"
      ],
      "metadata": {
        "colab": {
          "base_uri": "https://localhost:8080/"
        },
        "id": "KCtMa_smqb70",
        "outputId": "bdf1ee94-89bf-4125-8496-9e608d9b62d3"
      },
      "execution_count": 39,
      "outputs": [
        {
          "output_type": "stream",
          "name": "stdout",
          "text": [
            "MSE : 583.43\n",
            "MSE : 16.18\n",
            "MSE : 13.83\n",
            "MSE : 12.62\n",
            "MSE : 11.88\n",
            "MSE : 11.34\n",
            "MSE : 10.91\n",
            "MSE : 10.51\n",
            "MSE : 10.14\n",
            "MSE : 9.80\n",
            "MSE : 9.51\n",
            "MSE : 9.27\n",
            "MSE : 9.04\n",
            "MSE : 8.79\n",
            "MSE : 8.51\n"
          ]
        }
      ]
    },
    {
      "cell_type": "code",
      "source": [
        "test_preds = ForwardPass(weights, X_test)\n",
        "\n",
        "test_preds[:5], Y_test[:5]"
      ],
      "metadata": {
        "colab": {
          "base_uri": "https://localhost:8080/"
        },
        "id": "RRBjROPnqeOb",
        "outputId": "039cbe7f-5fce-4c61-baba-4ba95045ed40"
      },
      "execution_count": 40,
      "outputs": [
        {
          "output_type": "execute_result",
          "data": {
            "text/plain": [
              "(Array([24.394611, 27.70039 , 44.80102 , 21.503696, 27.354103], dtype=float32),\n",
              " Array([15. , 26.6, 45.4, 20.8, 34.9], dtype=float32))"
            ]
          },
          "metadata": {},
          "execution_count": 40
        }
      ]
    },
    {
      "cell_type": "code",
      "source": [
        "train_preds = ForwardPass(weights, X_train)\n",
        "\n",
        "train_preds[:5], Y_train[:5]"
      ],
      "metadata": {
        "colab": {
          "base_uri": "https://localhost:8080/"
        },
        "id": "Nb4v3hF-qmLC",
        "outputId": "ef265e55-1f5e-4c39-81c6-76c7ce23b8f5"
      },
      "execution_count": 42,
      "outputs": [
        {
          "output_type": "execute_result",
          "data": {
            "text/plain": [
              "(Array([46.307198, 12.954236, 21.248285, 27.865353, 18.95947 ], dtype=float32),\n",
              " Array([48.5, 17.1, 23.1, 28.4, 18.9], dtype=float32))"
            ]
          },
          "metadata": {},
          "execution_count": 42
        }
      ]
    },
    {
      "cell_type": "markdown",
      "source": [
        "Desempeño del modelo"
      ],
      "metadata": {
        "id": "dCuWonJEqpnY"
      }
    },
    {
      "cell_type": "code",
      "source": [
        "print(\"Test  MSE Score : {:.2f}\".format(MeanSquaredErrorLoss(weights, X_test, Y_test)))\n",
        "print(\"Train MSE Score : {:.2f}\".format(MeanSquaredErrorLoss(weights, X_train, Y_train)))"
      ],
      "metadata": {
        "colab": {
          "base_uri": "https://localhost:8080/"
        },
        "id": "GtIRhfASqpDg",
        "outputId": "1c883c0e-b729-4339-86f9-7e8d331b17c3"
      },
      "execution_count": 43,
      "outputs": [
        {
          "output_type": "stream",
          "name": "stdout",
          "text": [
            "Test  MSE Score : 17.89\n",
            "Train MSE Score : 8.28\n"
          ]
        }
      ]
    },
    {
      "cell_type": "code",
      "source": [
        "from sklearn.metrics import r2_score\n",
        "\n",
        "print(\"Test  R^2 Score : {:.2f}\".format(r2_score(test_preds.squeeze(), Y_test)))\n",
        "print(\"Train R^2 Score : {:.2f}\".format(r2_score(train_preds.squeeze(), Y_train)))"
      ],
      "metadata": {
        "colab": {
          "base_uri": "https://localhost:8080/"
        },
        "id": "ClHVW1Vtqv-v",
        "outputId": "888ad90b-a9bc-4ac8-c717-2833cfa17887"
      },
      "execution_count": 44,
      "outputs": [
        {
          "output_type": "stream",
          "name": "stdout",
          "text": [
            "Test  R^2 Score : 0.75\n",
            "Train R^2 Score : 0.89\n"
          ]
        }
      ]
    },
    {
      "cell_type": "markdown",
      "source": [
        "# Clasificacion"
      ],
      "metadata": {
        "id": "Xe2TNrJSto1P"
      }
    },
    {
      "cell_type": "code",
      "source": [
        "from sklearn import datasets\n",
        "from sklearn.model_selection import train_test_split\n",
        "\n",
        "X, Y = datasets.load_breast_cancer(return_X_y=True)\n",
        "\n",
        "X_train, X_test, Y_train, Y_test = train_test_split(X, Y, train_size=0.8, stratify=Y, random_state=123)\n",
        "\n",
        "X_train, X_test, Y_train, Y_test = jnp.array(X_train, dtype=jnp.float32),\\\n",
        "                                   jnp.array(X_test, dtype=jnp.float32),\\\n",
        "                                   jnp.array(Y_train, dtype=jnp.float32),\\\n",
        "                                   jnp.array(Y_test, dtype=jnp.float32)\n",
        "\n",
        "samples, features = X_train.shape\n",
        "classes = np.unique(Y)\n",
        "\n",
        "X_train.shape, X_test.shape, Y_train.shape, Y_test.shape"
      ],
      "metadata": {
        "colab": {
          "base_uri": "https://localhost:8080/"
        },
        "id": "ogUgRlx1s0sx",
        "outputId": "05bd5215-2c58-4cf6-a22c-a3d5e0267980"
      },
      "execution_count": 45,
      "outputs": [
        {
          "output_type": "execute_result",
          "data": {
            "text/plain": [
              "((455, 30), (114, 30), (455,), (114,))"
            ]
          },
          "metadata": {},
          "execution_count": 45
        }
      ]
    },
    {
      "cell_type": "code",
      "source": [
        "samples, features, classes"
      ],
      "metadata": {
        "colab": {
          "base_uri": "https://localhost:8080/"
        },
        "id": "c3s-wWuFtuVK",
        "outputId": "1bfce89d-8ff5-4858-d228-c5e94fd42396"
      },
      "execution_count": 46,
      "outputs": [
        {
          "output_type": "execute_result",
          "data": {
            "text/plain": [
              "(455, 30, array([0, 1]))"
            ]
          },
          "metadata": {},
          "execution_count": 46
        }
      ]
    },
    {
      "cell_type": "code",
      "source": [
        "mean = X_train.mean(axis=0)\n",
        "std = X_train.std(axis=0)\n",
        "\n",
        "X_train = (X_train - mean) / std\n",
        "X_test = (X_test - mean) / std"
      ],
      "metadata": {
        "id": "Yr2lAgMYtv05"
      },
      "execution_count": 47,
      "outputs": []
    },
    {
      "cell_type": "code",
      "source": [
        "def InitializeWeights(layer_sizes, seed):\n",
        "    weights = []\n",
        "    for i, units in enumerate(layer_sizes):\n",
        "        if i==0:\n",
        "            w = jax.random.uniform(key=seed, shape=(units, features), minval=-1.0, maxval=1.0, dtype=jnp.float32)\n",
        "        else:\n",
        "            w = jax.random.uniform(key=seed, shape=(units, layer_sizes[i-1]), minval=-1.0, maxval=1.0,\n",
        "                                   dtype=jnp.float32)\n",
        "\n",
        "        b = jax.random.uniform(key=seed, minval=-1.0, maxval=1.0, shape=(units,), dtype=jnp.float32)\n",
        "\n",
        "        weights.append([w,b])\n",
        "\n",
        "    return weights"
      ],
      "metadata": {
        "id": "BdncAn0eujjx"
      },
      "execution_count": 48,
      "outputs": []
    },
    {
      "cell_type": "code",
      "source": [
        "def Sigmoid(x):\n",
        "    return 1 / (1 + jnp.exp(-1 * x))"
      ],
      "metadata": {
        "id": "ZBtQJpYsumFg"
      },
      "execution_count": 49,
      "outputs": []
    },
    {
      "cell_type": "code",
      "source": [
        "arr = jnp.array([1,2,3,4,5], dtype=jnp.float32)\n",
        "\n",
        "Sigmoid(arr), jax.nn.sigmoid(arr)"
      ],
      "metadata": {
        "colab": {
          "base_uri": "https://localhost:8080/"
        },
        "id": "yy2WchRfw7Yc",
        "outputId": "e08e9087-0918-4860-9036-9548dabfb7a8"
      },
      "execution_count": 50,
      "outputs": [
        {
          "output_type": "execute_result",
          "data": {
            "text/plain": [
              "(Array([0.7310586 , 0.880797  , 0.95257413, 0.98201376, 0.9933072 ],      dtype=float32),\n",
              " Array([0.7310586 , 0.880797  , 0.95257413, 0.98201376, 0.9933072 ],      dtype=float32))"
            ]
          },
          "metadata": {},
          "execution_count": 50
        }
      ]
    },
    {
      "cell_type": "code",
      "source": [
        "def LinearLayer(weights, input_data, activation=lambda x: x):\n",
        "    w, b = weights\n",
        "    out = jnp.dot(input_data, w.T) + b\n",
        "    return activation(out)"
      ],
      "metadata": {
        "id": "FdZyGJdJw9F_"
      },
      "execution_count": 51,
      "outputs": []
    },
    {
      "cell_type": "code",
      "source": [
        "def ForwardPass(weights, input_data):\n",
        "    layer_out = input_data\n",
        "\n",
        "    for i in range(len(weights[:-1])):\n",
        "        layer_out = LinearLayer(weights[i], layer_out, Relu)\n",
        "\n",
        "    preds = LinearLayer(weights[-1], layer_out, Sigmoid)\n",
        "    return preds.squeeze()"
      ],
      "metadata": {
        "id": "JomyN_9yw_O3"
      },
      "execution_count": 52,
      "outputs": []
    },
    {
      "cell_type": "code",
      "source": [
        "def NegLogLoss(weights, input_data, actual):\n",
        "    preds = ForwardPass(weights, input_data)\n",
        "    return (- actual * jnp.log(preds) - (1 - actual) * jnp.log(1 - preds)).mean()"
      ],
      "metadata": {
        "id": "hMbfF3d3xBgI"
      },
      "execution_count": 53,
      "outputs": []
    },
    {
      "cell_type": "code",
      "source": [
        "from jax import grad, value_and_grad\n",
        "\n",
        "def CalculateGradients(weights, input_data, actual):\n",
        "    Grad_NegLogLoss = grad(NegLogLoss)\n",
        "    gradients = Grad_NegLogLoss(weights, input_data, actual)\n",
        "    return gradients"
      ],
      "metadata": {
        "id": "qI9gWygpxDKw"
      },
      "execution_count": 54,
      "outputs": []
    },
    {
      "cell_type": "code",
      "source": [
        "def TrainModel(weights, X, Y, learning_rate, epochs):\n",
        "    for i in range(epochs):\n",
        "        loss = NegLogLoss(weights, X, Y)\n",
        "        gradients = CalculateGradients(weights, X, Y)\n",
        "\n",
        "        ## Update Weights\n",
        "        for j in range(len(weights)):\n",
        "            weights[j][0] -= learning_rate * gradients[j][0] ## Update Weights\n",
        "            weights[j][1] -= learning_rate * gradients[j][1] ## Update Biases\n",
        "\n",
        "        if i%100 ==0:  ## Print LogLoss every 100 epochs\n",
        "            print(\"NegLogLoss : {:.2f}\".format(loss))"
      ],
      "metadata": {
        "id": "rw9wkgi6xE5Y"
      },
      "execution_count": 55,
      "outputs": []
    },
    {
      "cell_type": "code",
      "source": [
        "seed = jax.random.PRNGKey(42)\n",
        "learning_rate = jnp.array(1/1e2)\n",
        "epochs = 1500\n",
        "layer_sizes = [5,10,15,1]\n",
        "\n",
        "weights = InitializeWeights(layer_sizes, seed)\n",
        "\n",
        "TrainModel(weights, X_train, Y_train, learning_rate, epochs)"
      ],
      "metadata": {
        "colab": {
          "base_uri": "https://localhost:8080/"
        },
        "id": "Nj4AMKAlxG8I",
        "outputId": "a49f26ad-d70f-4323-e751-dc5d6df414c9"
      },
      "execution_count": 56,
      "outputs": [
        {
          "output_type": "stream",
          "name": "stdout",
          "text": [
            "NegLogLoss : 1.21\n",
            "NegLogLoss : 0.33\n",
            "NegLogLoss : 0.26\n",
            "NegLogLoss : 0.23\n",
            "NegLogLoss : 0.20\n",
            "NegLogLoss : 0.17\n",
            "NegLogLoss : 0.16\n",
            "NegLogLoss : 0.14\n",
            "NegLogLoss : 0.13\n",
            "NegLogLoss : 0.12\n",
            "NegLogLoss : 0.11\n",
            "NegLogLoss : 0.11\n",
            "NegLogLoss : 0.10\n",
            "NegLogLoss : 0.10\n",
            "NegLogLoss : 0.09\n"
          ]
        }
      ]
    },
    {
      "cell_type": "code",
      "source": [
        "test_preds = ForwardPass(weights, X_test)\n",
        "\n",
        "test_preds = (test_preds > 0.5).astype(jnp.float32)\n",
        "\n",
        "test_preds[:5], Y_test[:5]"
      ],
      "metadata": {
        "colab": {
          "base_uri": "https://localhost:8080/"
        },
        "id": "bm8S8TjIxIxA",
        "outputId": "6139c8d1-9a7b-4cbb-916e-43d8ab3de91e"
      },
      "execution_count": 57,
      "outputs": [
        {
          "output_type": "execute_result",
          "data": {
            "text/plain": [
              "(Array([0., 0., 1., 1., 0.], dtype=float32),\n",
              " Array([0., 0., 1., 1., 1.], dtype=float32))"
            ]
          },
          "metadata": {},
          "execution_count": 57
        }
      ]
    },
    {
      "cell_type": "code",
      "source": [
        "train_preds = ForwardPass(weights, X_train)\n",
        "\n",
        "train_preds = (train_preds > 0.5).astype(jnp.float32)\n",
        "\n",
        "train_preds[:5], Y_train[:5]"
      ],
      "metadata": {
        "colab": {
          "base_uri": "https://localhost:8080/"
        },
        "id": "BVJBEJJnxLO5",
        "outputId": "ce67cf29-ebcb-439b-c7da-d41c64c3fced"
      },
      "execution_count": 58,
      "outputs": [
        {
          "output_type": "execute_result",
          "data": {
            "text/plain": [
              "(Array([1., 1., 0., 0., 1.], dtype=float32),\n",
              " Array([1., 1., 0., 0., 1.], dtype=float32))"
            ]
          },
          "metadata": {},
          "execution_count": 58
        }
      ]
    },
    {
      "cell_type": "code",
      "source": [
        "print(\"Test  NegLogLoss Score : {:.2f}\".format(NegLogLoss(weights, X_test, Y_test)))\n",
        "print(\"Train NegLogLoss Score : {:.2f}\".format(NegLogLoss(weights, X_train, Y_train)))"
      ],
      "metadata": {
        "colab": {
          "base_uri": "https://localhost:8080/"
        },
        "id": "fVti0SJTxMmA",
        "outputId": "71297e37-a260-449f-9dfa-9678425f1f60"
      },
      "execution_count": 59,
      "outputs": [
        {
          "output_type": "stream",
          "name": "stdout",
          "text": [
            "Test  NegLogLoss Score : 0.11\n",
            "Train NegLogLoss Score : 0.09\n"
          ]
        }
      ]
    },
    {
      "cell_type": "code",
      "source": [
        "from sklearn.metrics import accuracy_score\n",
        "\n",
        "print(\"Train Accuracy : {:.2f}\".format(accuracy_score(Y_train, train_preds)))\n",
        "print(\"Test  Accuracy : {:.2f}\".format(accuracy_score(Y_test, test_preds)))"
      ],
      "metadata": {
        "colab": {
          "base_uri": "https://localhost:8080/"
        },
        "id": "-KL8KEUVxPmf",
        "outputId": "3c51be34-fa17-40b6-e03f-c212950b31e7"
      },
      "execution_count": 60,
      "outputs": [
        {
          "output_type": "stream",
          "name": "stdout",
          "text": [
            "Train Accuracy : 0.98\n",
            "Test  Accuracy : 0.97\n"
          ]
        }
      ]
    },
    {
      "cell_type": "code",
      "source": [],
      "metadata": {
        "id": "6wKGbCerxVOH"
      },
      "execution_count": null,
      "outputs": []
    }
  ]
}